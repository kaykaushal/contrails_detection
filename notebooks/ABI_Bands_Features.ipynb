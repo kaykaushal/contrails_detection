{
 "cells": [
  {
   "cell_type": "markdown",
   "id": "2cdcb20c-f1f6-4258-8524-0926824c58fb",
   "metadata": {},
   "source": [
    "## Feature Extraction by Random Forest"
   ]
  },
  {
   "cell_type": "code",
   "execution_count": 1,
   "id": "7fcb4118-6910-4a04-87d8-945d8e1c068b",
   "metadata": {},
   "outputs": [],
   "source": [
    "import os \n",
    "import sys \n",
    "import numpy as np\n",
    "import pandas as pd\n",
    "from pathlib import Path\n",
    "import matplotlib.pyplot as plt\n",
    "\n",
    "import warnings\n",
    "warnings.filterwarnings('ignore')\n",
    "# Pytorch module \n",
    "import torch\n",
    "import torchvision\n",
    "from torch.utils.data import Dataset, DataLoader\n",
    "from torchvision import transforms\n",
    "from torch.utils.tensorboard import SummaryWriter\n",
    "\n",
    "import pytorch_lightning as pl\n",
    "\n",
    "import random\n",
    "from typing import Any, Mapping\n",
    "from time import gmtime, strftime\n",
    "\n",
    "# set working directory\n",
    "os.chdir('/home/jovyan/contrails/contrails_detection/')\n",
    "\n",
    "# Project Module \n",
    "import config\n",
    "import src.utils as utils\n",
    "from src.dataset import ContrailsDataset\n",
    "from src.model import BaseUnet, SegmentLightning\n",
    "from src.train import Trainer\n",
    "from src.trainer_lgt import TrainerLightning"
   ]
  },
  {
   "cell_type": "code",
   "execution_count": 3,
   "id": "fd4b18b9-168c-4f49-ac31-1041708dcf3d",
   "metadata": {},
   "outputs": [
    {
     "data": {
      "text/html": [
       "<div>\n",
       "<style scoped>\n",
       "    .dataframe tbody tr th:only-of-type {\n",
       "        vertical-align: middle;\n",
       "    }\n",
       "\n",
       "    .dataframe tbody tr th {\n",
       "        vertical-align: top;\n",
       "    }\n",
       "\n",
       "    .dataframe thead th {\n",
       "        text-align: right;\n",
       "    }\n",
       "</style>\n",
       "<table border=\"1\" class=\"dataframe\">\n",
       "  <thead>\n",
       "    <tr style=\"text-align: right;\">\n",
       "      <th></th>\n",
       "      <th>Image_ID</th>\n",
       "      <th>Class</th>\n",
       "    </tr>\n",
       "  </thead>\n",
       "  <tbody>\n",
       "    <tr>\n",
       "      <th>1131</th>\n",
       "      <td>1288917852422534876</td>\n",
       "      <td>1</td>\n",
       "    </tr>\n",
       "    <tr>\n",
       "      <th>1295</th>\n",
       "      <td>135845313190230696</td>\n",
       "      <td>1</td>\n",
       "    </tr>\n",
       "    <tr>\n",
       "      <th>861</th>\n",
       "      <td>1006793757071532139</td>\n",
       "      <td>0</td>\n",
       "    </tr>\n",
       "    <tr>\n",
       "      <th>1460</th>\n",
       "      <td>144592648300779276</td>\n",
       "      <td>0</td>\n",
       "    </tr>\n",
       "    <tr>\n",
       "      <th>1127</th>\n",
       "      <td>1101876205139670330</td>\n",
       "      <td>0</td>\n",
       "    </tr>\n",
       "  </tbody>\n",
       "</table>\n",
       "</div>"
      ],
      "text/plain": [
       "                 Image_ID  Class\n",
       "1131  1288917852422534876      1\n",
       "1295   135845313190230696      1\n",
       "861   1006793757071532139      0\n",
       "1460   144592648300779276      0\n",
       "1127  1101876205139670330      0"
      ]
     },
     "execution_count": 3,
     "metadata": {},
     "output_type": "execute_result"
    }
   ],
   "source": [
    "from sklearn.model_selection import train_test_split\n",
    "df = pd.read_csv(config.CSV_FILE, index_col=0)\n",
    "train_df, valid_df = train_test_split(df[df.Class.isin([0,1])], test_size = .2, random_state=42)\n",
    "train_df.tail()"
   ]
  },
  {
   "cell_type": "markdown",
   "id": "1180b3fb-daa1-451e-ae5f-ba6bd5273cfc",
   "metadata": {},
   "source": [
    "### Data Prepration"
   ]
  },
  {
   "cell_type": "code",
   "execution_count": 4,
   "id": "ede72ce9-d293-4e4c-8d59-09611754c1cf",
   "metadata": {},
   "outputs": [
    {
     "name": "stdout",
     "output_type": "stream",
     "text": [
      "CPU times: user 5.88 ms, sys: 0 ns, total: 5.88 ms\n",
      "Wall time: 5.84 ms\n"
     ]
    }
   ],
   "source": [
    "%%time\n",
    "torch.manual_seed(111)\n",
    "transform = transforms.Compose([\n",
    "    # Add your desired transformations here\n",
    "    transforms.ToTensor(),\n",
    "    transforms.Lambda(lambda x: x / 255.0),\n",
    "    #transforms.Lambda(lambda x: utils.get_rgb(x)), #Ash Color Scheme \n",
    "    #transforms.Lambda(lambda x: utils.get_wv_ash(x))\n",
    "])\n",
    "\n",
    "train_dataset = ContrailsDataset(dataframe=train_df.sample(1000),\n",
    "                                 root_dir=config.DATA_DIR+'validation', \n",
    "                                 transform=transform, \n",
    "                                 sequence_index=config.TS # nth:4 sequence image\n",
    "                                )"
   ]
  },
  {
   "cell_type": "code",
   "execution_count": 5,
   "id": "d0ca18c4-9537-400c-9fc7-167deceb6c2f",
   "metadata": {},
   "outputs": [],
   "source": [
    "# Define a function to convert tensors to pandas DataFrame\n",
    "def tensors_to_dataframe(images, masks):\n",
    "    data = {'Channel_{}'.format(i): [] for i in range(images[0].shape[0])}  # Assuming images[0] gives shape of one image\n",
    "    data['Mask'] = []\n",
    "    \n",
    "    for image, mask in zip(images, masks):\n",
    "        # Convert tensors to numpy arrays\n",
    "        image_np = image.numpy()\n",
    "        mask_np = mask.numpy()\n",
    "        \n",
    "        # Flatten each channel and add to DataFrame\n",
    "        for i in range(image_np.shape[0]):\n",
    "            data['Channel_{}'.format(i)].extend(image_np[i].reshape(-1))\n",
    "        \n",
    "        # Flatten mask and add to DataFrame\n",
    "        data['Mask'].extend(mask_np.reshape(-1))\n",
    "    \n",
    "    return pd.DataFrame(data)"
   ]
  },
  {
   "cell_type": "code",
   "execution_count": 6,
   "id": "21909201-ae96-4d39-aa3f-55c84582241b",
   "metadata": {},
   "outputs": [],
   "source": [
    "# Convert dataset images and masks to DataFrame\n",
    "images = []\n",
    "masks = []\n",
    "for i, sample in enumerate(train_dataset):\n",
    "    image, mask = sample\n",
    "    images.append(image)\n",
    "    masks.append(mask)"
   ]
  },
  {
   "cell_type": "code",
   "execution_count": 7,
   "id": "99dd3e6f-0b50-4d13-ae68-28678cf9dc71",
   "metadata": {},
   "outputs": [],
   "source": [
    "contr_df = tensors_to_dataframe(images, masks)"
   ]
  },
  {
   "cell_type": "code",
   "execution_count": 8,
   "id": "f92492a4-0a02-4869-90b1-5e268367b2a7",
   "metadata": {},
   "outputs": [
    {
     "data": {
      "text/html": [
       "<div>\n",
       "<style scoped>\n",
       "    .dataframe tbody tr th:only-of-type {\n",
       "        vertical-align: middle;\n",
       "    }\n",
       "\n",
       "    .dataframe tbody tr th {\n",
       "        vertical-align: top;\n",
       "    }\n",
       "\n",
       "    .dataframe thead th {\n",
       "        text-align: right;\n",
       "    }\n",
       "</style>\n",
       "<table border=\"1\" class=\"dataframe\">\n",
       "  <thead>\n",
       "    <tr style=\"text-align: right;\">\n",
       "      <th></th>\n",
       "      <th>Channel_0</th>\n",
       "      <th>Channel_1</th>\n",
       "      <th>Channel_2</th>\n",
       "      <th>Channel_3</th>\n",
       "      <th>Channel_4</th>\n",
       "      <th>Channel_5</th>\n",
       "      <th>Channel_6</th>\n",
       "      <th>Channel_7</th>\n",
       "      <th>Channel_8</th>\n",
       "      <th>Mask</th>\n",
       "    </tr>\n",
       "  </thead>\n",
       "  <tbody>\n",
       "    <tr>\n",
       "      <th>count</th>\n",
       "      <td>6.553600e+07</td>\n",
       "      <td>6.553600e+07</td>\n",
       "      <td>6.553600e+07</td>\n",
       "      <td>6.553600e+07</td>\n",
       "      <td>6.553600e+07</td>\n",
       "      <td>6.553600e+07</td>\n",
       "      <td>6.553600e+07</td>\n",
       "      <td>6.553600e+07</td>\n",
       "      <td>6.553600e+07</td>\n",
       "      <td>6.553600e+07</td>\n",
       "    </tr>\n",
       "    <tr>\n",
       "      <th>mean</th>\n",
       "      <td>2.569543e-01</td>\n",
       "      <td>3.127211e-01</td>\n",
       "      <td>5.120000e-01</td>\n",
       "      <td>5.120000e-01</td>\n",
       "      <td>5.120000e-01</td>\n",
       "      <td>5.120000e-01</td>\n",
       "      <td>5.120000e-01</td>\n",
       "      <td>5.120000e-01</td>\n",
       "      <td>5.120000e-01</td>\n",
       "      <td>4.859863e-03</td>\n",
       "    </tr>\n",
       "    <tr>\n",
       "      <th>std</th>\n",
       "      <td>3.813754e-01</td>\n",
       "      <td>3.641826e-01</td>\n",
       "      <td>3.577709e-01</td>\n",
       "      <td>3.580935e-01</td>\n",
       "      <td>3.577709e-01</td>\n",
       "      <td>3.605785e-01</td>\n",
       "      <td>3.603082e-01</td>\n",
       "      <td>3.582990e-01</td>\n",
       "      <td>3.577709e-01</td>\n",
       "      <td>6.936454e-02</td>\n",
       "    </tr>\n",
       "    <tr>\n",
       "      <th>min</th>\n",
       "      <td>7.392612e-01</td>\n",
       "      <td>7.301350e-01</td>\n",
       "      <td>7.327698e-01</td>\n",
       "      <td>7.264584e-01</td>\n",
       "      <td>8.090158e-01</td>\n",
       "      <td>7.268292e-01</td>\n",
       "      <td>7.238594e-01</td>\n",
       "      <td>7.226440e-01</td>\n",
       "      <td>7.326902e-01</td>\n",
       "      <td>0.000000e+00</td>\n",
       "    </tr>\n",
       "    <tr>\n",
       "      <th>25%</th>\n",
       "      <td>9.029663e-01</td>\n",
       "      <td>9.346246e-01</td>\n",
       "      <td>9.663337e-01</td>\n",
       "      <td>1.043630e+00</td>\n",
       "      <td>9.732332e-01</td>\n",
       "      <td>1.048864e+00</td>\n",
       "      <td>1.040989e+00</td>\n",
       "      <td>1.029865e+00</td>\n",
       "      <td>9.930940e-01</td>\n",
       "      <td>0.000000e+00</td>\n",
       "    </tr>\n",
       "    <tr>\n",
       "      <th>50%</th>\n",
       "      <td>9.185816e-01</td>\n",
       "      <td>9.554283e-01</td>\n",
       "      <td>9.946570e-01</td>\n",
       "      <td>1.102211e+00</td>\n",
       "      <td>1.012286e+00</td>\n",
       "      <td>1.111670e+00</td>\n",
       "      <td>1.108033e+00</td>\n",
       "      <td>1.097881e+00</td>\n",
       "      <td>1.043668e+00</td>\n",
       "      <td>0.000000e+00</td>\n",
       "    </tr>\n",
       "    <tr>\n",
       "      <th>75%</th>\n",
       "      <td>9.326942e-01</td>\n",
       "      <td>9.716380e-01</td>\n",
       "      <td>1.011505e+00</td>\n",
       "      <td>1.131103e+00</td>\n",
       "      <td>1.042276e+00</td>\n",
       "      <td>1.143460e+00</td>\n",
       "      <td>1.140199e+00</td>\n",
       "      <td>1.127546e+00</td>\n",
       "      <td>1.066949e+00</td>\n",
       "      <td>0.000000e+00</td>\n",
       "    </tr>\n",
       "    <tr>\n",
       "      <th>max</th>\n",
       "      <td>1.069821e+00</td>\n",
       "      <td>1.074434e+00</td>\n",
       "      <td>1.165788e+00</td>\n",
       "      <td>1.267230e+00</td>\n",
       "      <td>1.143719e+00</td>\n",
       "      <td>1.287282e+00</td>\n",
       "      <td>1.294483e+00</td>\n",
       "      <td>1.282759e+00</td>\n",
       "      <td>1.170058e+00</td>\n",
       "      <td>1.000000e+00</td>\n",
       "    </tr>\n",
       "  </tbody>\n",
       "</table>\n",
       "</div>"
      ],
      "text/plain": [
       "          Channel_0     Channel_1     Channel_2     Channel_3     Channel_4  \\\n",
       "count  6.553600e+07  6.553600e+07  6.553600e+07  6.553600e+07  6.553600e+07   \n",
       "mean   2.569543e-01  3.127211e-01  5.120000e-01  5.120000e-01  5.120000e-01   \n",
       "std    3.813754e-01  3.641826e-01  3.577709e-01  3.580935e-01  3.577709e-01   \n",
       "min    7.392612e-01  7.301350e-01  7.327698e-01  7.264584e-01  8.090158e-01   \n",
       "25%    9.029663e-01  9.346246e-01  9.663337e-01  1.043630e+00  9.732332e-01   \n",
       "50%    9.185816e-01  9.554283e-01  9.946570e-01  1.102211e+00  1.012286e+00   \n",
       "75%    9.326942e-01  9.716380e-01  1.011505e+00  1.131103e+00  1.042276e+00   \n",
       "max    1.069821e+00  1.074434e+00  1.165788e+00  1.267230e+00  1.143719e+00   \n",
       "\n",
       "          Channel_5     Channel_6     Channel_7     Channel_8          Mask  \n",
       "count  6.553600e+07  6.553600e+07  6.553600e+07  6.553600e+07  6.553600e+07  \n",
       "mean   5.120000e-01  5.120000e-01  5.120000e-01  5.120000e-01  4.859863e-03  \n",
       "std    3.605785e-01  3.603082e-01  3.582990e-01  3.577709e-01  6.936454e-02  \n",
       "min    7.268292e-01  7.238594e-01  7.226440e-01  7.326902e-01  0.000000e+00  \n",
       "25%    1.048864e+00  1.040989e+00  1.029865e+00  9.930940e-01  0.000000e+00  \n",
       "50%    1.111670e+00  1.108033e+00  1.097881e+00  1.043668e+00  0.000000e+00  \n",
       "75%    1.143460e+00  1.140199e+00  1.127546e+00  1.066949e+00  0.000000e+00  \n",
       "max    1.287282e+00  1.294483e+00  1.282759e+00  1.170058e+00  1.000000e+00  "
      ]
     },
     "execution_count": 8,
     "metadata": {},
     "output_type": "execute_result"
    }
   ],
   "source": [
    "contr_df.describe()"
   ]
  },
  {
   "cell_type": "code",
   "execution_count": 10,
   "id": "98f203bb-ffc9-4e35-b872-3e7d94e2f417",
   "metadata": {},
   "outputs": [
    {
     "data": {
      "text/plain": [
       "(65536000, 10)"
      ]
     },
     "execution_count": 10,
     "metadata": {},
     "output_type": "execute_result"
    }
   ],
   "source": [
    "contr_df.shape"
   ]
  },
  {
   "cell_type": "markdown",
   "id": "8862998b-0bf2-44a1-a1df-06b9097ae565",
   "metadata": {},
   "source": [
    "### Modeling"
   ]
  },
  {
   "cell_type": "code",
   "execution_count": 20,
   "id": "c7e57de6-83f1-49ed-adf1-5ee1528cc91c",
   "metadata": {},
   "outputs": [],
   "source": [
    "from sklearn.ensemble import RandomForestClassifier\n",
    "from sklearn.metrics import accuracy_score, classification_report"
   ]
  },
  {
   "cell_type": "code",
   "execution_count": 11,
   "id": "7b465b29-895d-4d87-ac18-084fec49dca7",
   "metadata": {},
   "outputs": [],
   "source": [
    "train_df, valid_df = train_test_split(contr_df, test_size = .2, random_state=44)"
   ]
  },
  {
   "cell_type": "code",
   "execution_count": 17,
   "id": "e5962aff-8fa8-4b5d-9205-9935d16d6304",
   "metadata": {},
   "outputs": [
    {
     "data": {
      "text/plain": [
       "0.0    52174167\n",
       "1.0      254633\n",
       "Name: Mask, dtype: int64"
      ]
     },
     "execution_count": 17,
     "metadata": {},
     "output_type": "execute_result"
    }
   ],
   "source": [
    "train_df.iloc[:, -1].value_counts()"
   ]
  },
  {
   "cell_type": "code",
   "execution_count": 18,
   "id": "4c69194c-75f4-45d9-ad79-23d3db2d3d57",
   "metadata": {},
   "outputs": [],
   "source": [
    "X_train = train_df.iloc[:, :-1]\n",
    "y_train = train_df.iloc[:, -1] "
   ]
  },
  {
   "cell_type": "code",
   "execution_count": 19,
   "id": "888721ab-c47a-4a94-b856-8ea3747079ec",
   "metadata": {},
   "outputs": [],
   "source": [
    "X_valid = valid_df.iloc[:, :-1]\n",
    "y_valid = valid_df.iloc[:, -1] "
   ]
  },
  {
   "cell_type": "code",
   "execution_count": 21,
   "id": "9e12151a-c353-4375-a1d9-606f9e506917",
   "metadata": {},
   "outputs": [
    {
     "data": {
      "text/html": [
       "<style>#sk-container-id-1 {color: black;}#sk-container-id-1 pre{padding: 0;}#sk-container-id-1 div.sk-toggleable {background-color: white;}#sk-container-id-1 label.sk-toggleable__label {cursor: pointer;display: block;width: 100%;margin-bottom: 0;padding: 0.3em;box-sizing: border-box;text-align: center;}#sk-container-id-1 label.sk-toggleable__label-arrow:before {content: \"▸\";float: left;margin-right: 0.25em;color: #696969;}#sk-container-id-1 label.sk-toggleable__label-arrow:hover:before {color: black;}#sk-container-id-1 div.sk-estimator:hover label.sk-toggleable__label-arrow:before {color: black;}#sk-container-id-1 div.sk-toggleable__content {max-height: 0;max-width: 0;overflow: hidden;text-align: left;background-color: #f0f8ff;}#sk-container-id-1 div.sk-toggleable__content pre {margin: 0.2em;color: black;border-radius: 0.25em;background-color: #f0f8ff;}#sk-container-id-1 input.sk-toggleable__control:checked~div.sk-toggleable__content {max-height: 200px;max-width: 100%;overflow: auto;}#sk-container-id-1 input.sk-toggleable__control:checked~label.sk-toggleable__label-arrow:before {content: \"▾\";}#sk-container-id-1 div.sk-estimator input.sk-toggleable__control:checked~label.sk-toggleable__label {background-color: #d4ebff;}#sk-container-id-1 div.sk-label input.sk-toggleable__control:checked~label.sk-toggleable__label {background-color: #d4ebff;}#sk-container-id-1 input.sk-hidden--visually {border: 0;clip: rect(1px 1px 1px 1px);clip: rect(1px, 1px, 1px, 1px);height: 1px;margin: -1px;overflow: hidden;padding: 0;position: absolute;width: 1px;}#sk-container-id-1 div.sk-estimator {font-family: monospace;background-color: #f0f8ff;border: 1px dotted black;border-radius: 0.25em;box-sizing: border-box;margin-bottom: 0.5em;}#sk-container-id-1 div.sk-estimator:hover {background-color: #d4ebff;}#sk-container-id-1 div.sk-parallel-item::after {content: \"\";width: 100%;border-bottom: 1px solid gray;flex-grow: 1;}#sk-container-id-1 div.sk-label:hover label.sk-toggleable__label {background-color: #d4ebff;}#sk-container-id-1 div.sk-serial::before {content: \"\";position: absolute;border-left: 1px solid gray;box-sizing: border-box;top: 0;bottom: 0;left: 50%;z-index: 0;}#sk-container-id-1 div.sk-serial {display: flex;flex-direction: column;align-items: center;background-color: white;padding-right: 0.2em;padding-left: 0.2em;position: relative;}#sk-container-id-1 div.sk-item {position: relative;z-index: 1;}#sk-container-id-1 div.sk-parallel {display: flex;align-items: stretch;justify-content: center;background-color: white;position: relative;}#sk-container-id-1 div.sk-item::before, #sk-container-id-1 div.sk-parallel-item::before {content: \"\";position: absolute;border-left: 1px solid gray;box-sizing: border-box;top: 0;bottom: 0;left: 50%;z-index: -1;}#sk-container-id-1 div.sk-parallel-item {display: flex;flex-direction: column;z-index: 1;position: relative;background-color: white;}#sk-container-id-1 div.sk-parallel-item:first-child::after {align-self: flex-end;width: 50%;}#sk-container-id-1 div.sk-parallel-item:last-child::after {align-self: flex-start;width: 50%;}#sk-container-id-1 div.sk-parallel-item:only-child::after {width: 0;}#sk-container-id-1 div.sk-dashed-wrapped {border: 1px dashed gray;margin: 0 0.4em 0.5em 0.4em;box-sizing: border-box;padding-bottom: 0.4em;background-color: white;}#sk-container-id-1 div.sk-label label {font-family: monospace;font-weight: bold;display: inline-block;line-height: 1.2em;}#sk-container-id-1 div.sk-label-container {text-align: center;}#sk-container-id-1 div.sk-container {/* jupyter's `normalize.less` sets `[hidden] { display: none; }` but bootstrap.min.css set `[hidden] { display: none !important; }` so we also need the `!important` here to be able to override the default hidden behavior on the sphinx rendered scikit-learn.org. See: https://github.com/scikit-learn/scikit-learn/issues/21755 */display: inline-block !important;position: relative;}#sk-container-id-1 div.sk-text-repr-fallback {display: none;}</style><div id=\"sk-container-id-1\" class=\"sk-top-container\"><div class=\"sk-text-repr-fallback\"><pre>RandomForestClassifier(max_depth=5, n_estimators=200, n_jobs=-1, random_state=0)</pre><b>In a Jupyter environment, please rerun this cell to show the HTML representation or trust the notebook. <br />On GitHub, the HTML representation is unable to render, please try loading this page with nbviewer.org.</b></div><div class=\"sk-container\" hidden><div class=\"sk-item\"><div class=\"sk-estimator sk-toggleable\"><input class=\"sk-toggleable__control sk-hidden--visually\" id=\"sk-estimator-id-1\" type=\"checkbox\" checked><label for=\"sk-estimator-id-1\" class=\"sk-toggleable__label sk-toggleable__label-arrow\">RandomForestClassifier</label><div class=\"sk-toggleable__content\"><pre>RandomForestClassifier(max_depth=5, n_estimators=200, n_jobs=-1, random_state=0)</pre></div></div></div></div></div>"
      ],
      "text/plain": [
       "RandomForestClassifier(max_depth=5, n_estimators=200, n_jobs=-1, random_state=0)"
      ]
     },
     "execution_count": 21,
     "metadata": {},
     "output_type": "execute_result"
    }
   ],
   "source": [
    "%%time\n",
    "cr_rf_model = RandomForestClassifier(n_estimators=200, max_depth=5, random_state=0, n_jobs=-1)\n",
    "cr_rf_model.fit(X_train, y_train)"
   ]
  },
  {
   "cell_type": "code",
   "execution_count": null,
   "id": "be43e378-f26e-42b0-b7d4-051ba37c4607",
   "metadata": {},
   "outputs": [],
   "source": [
    "from sklearn.externals import joblib\n",
    "joblib.dump(cr_rf_model, 'random_forest_model.pkl')"
   ]
  },
  {
   "cell_type": "code",
   "execution_count": 22,
   "id": "240980b8-17a0-477d-9848-347fa85512c8",
   "metadata": {},
   "outputs": [
    {
     "data": {
      "text/plain": [
       "0.9951276397705078"
      ]
     },
     "execution_count": 22,
     "metadata": {},
     "output_type": "execute_result"
    }
   ],
   "source": [
    "# Make predictions on the validation set\n",
    "y_pred = cr_rf_model.predict(X_valid)\n",
    "# Calculate accuracy\n",
    "cr_accuracy = accuracy_score(y_valid, y_pred)\n",
    "cr_accuracy"
   ]
  },
  {
   "cell_type": "code",
   "execution_count": 25,
   "id": "4ec8d4e8-b6cb-4d34-bfe7-fa8959bdaade",
   "metadata": {},
   "outputs": [
    {
     "data": {
      "text/plain": [
       "'              precision    recall  f1-score   support\\n\\n         0.0       1.00      1.00      1.00  13043337\\n         1.0       0.00      0.00      0.00     63863\\n\\n    accuracy                           1.00  13107200\\n   macro avg       0.50      0.50      0.50  13107200\\nweighted avg       0.99      1.00      0.99  13107200\\n'"
      ]
     },
     "execution_count": 25,
     "metadata": {},
     "output_type": "execute_result"
    }
   ],
   "source": [
    "# Generate a classification report\n",
    "cr_report = classification_report(y_valid, y_pred)\n",
    "cr_report"
   ]
  },
  {
   "cell_type": "code",
   "execution_count": 26,
   "id": "429646c2-12c0-487c-82ae-4b825c99e1fe",
   "metadata": {},
   "outputs": [
    {
     "data": {
      "image/png": "[encoded data removed]",
      "text/plain": [
       "<Figure size 1000x600 with 1 Axes>"
      ]
     },
     "metadata": {},
     "output_type": "display_data"
    }
   ],
   "source": [
    "# Plot feature importance\n",
    "feature_importance = cr_rf_model.feature_importances_\n",
    "feature_names = [f'Feature {i}' for i in range(len(feature_importance))]\n",
    "\n",
    "plt.figure(figsize=(10, 6))\n",
    "plt.bar(feature_names, feature_importance)\n",
    "plt.xlabel('Feature')\n",
    "plt.ylabel('Importance')\n",
    "plt.title('Random Forest Feature Importance')\n",
    "plt.xticks(rotation=45, ha='right')\n",
    "plt.tight_layout()\n",
    "plt.show()"
   ]
  },
  {
   "cell_type": "code",
   "execution_count": null,
   "id": "b6789f34-2001-4077-8e83-ad6cc455e9b2",
   "metadata": {},
   "outputs": [],
   "source": []
  }
 ],
 "metadata": {
  "kernelspec": {
   "display_name": "Python",
   "language": "python",
   "name": "python3"
  },
  "language_info": {
   "codemirror_mode": {
    "name": "ipython",
    "version": 3
   },
   "file_extension": ".py",
   "mimetype": "text/x-python",
   "name": "python",
   "nbconvert_exporter": "python",
   "pygments_lexer": "ipython3",
   "version": "3.8.10"
  }
 },
 "nbformat": 4,
 "nbformat_minor": 5
}
